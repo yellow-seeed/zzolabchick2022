{
  "nbformat": 4,
  "nbformat_minor": 0,
  "metadata": {
    "colab": {
      "name": "6주차미션.옐로씨드.ipynb",
      "provenance": [],
      "authorship_tag": "ABX9TyPklAgLeuLjQQwT6V+VNT5h",
      "include_colab_link": true
    },
    "kernelspec": {
      "name": "python3",
      "display_name": "Python 3"
    },
    "language_info": {
      "name": "python"
    }
  },
  "cells": [
    {
      "cell_type": "markdown",
      "metadata": {
        "id": "view-in-github",
        "colab_type": "text"
      },
      "source": [
        "<a href=\"https://colab.research.google.com/github/yellow-seeed/zzolabchick2022/blob/main/6%EC%A3%BC%EC%B0%A8%EB%AF%B8%EC%85%98_%EC%98%90%EB%A1%9C%EC%94%A8%EB%93%9C.ipynb\" target=\"_parent\"><img src=\"https://colab.research.google.com/assets/colab-badge.svg\" alt=\"Open In Colab\"/></a>"
      ]
    },
    {
      "cell_type": "markdown",
      "source": [
        "#6주차미션.옐로씨드\n",
        "\n",
        "**음악시간필요한악기별학생랜덤배정하기**\n",
        "\n",
        "- 2주차 미션으로 만들었던 아이디어를 발전시켜보고자 하였습니다.\n",
        "\n",
        "\n",
        "1.   필요한 역할(악기, 윗성부, 아랫성부, 술래 등) 교사 선정 후 입력하기\n",
        "2.   역할 별 인원수 특정하여 입력하기 (이 때, 모든 학생이 역할을 받을 수 있도록 역할별 인원수의 합이 총인원수라고 상정한 후 코딩하였습니다.)\n",
        "3.   우리 반 학생 명부를 활용하여 랜덤으로 필요한 역할 배정하기\n",
        "\n",
        "이와 같은 코드를 통해서 다양한 게임, 악기 합주시 랜덤 배정이 가능합니다.\n",
        "\n",
        "가짜를 찾아라 게임은 술래, 가짜, 윗성부, 아랫성부 인원을 정하고 랜덤으로 활용할 수 있습니다.\n",
        "\n",
        "사물놀이 연주시, 장구, 징, 꽹과리, 북의 인원을 정한 후 랜덤으로 배정할 수 있습니다.\n",
        "\n",
        "다양한 활동에 역할, 인원을 정한 후 랜덤으로 배정하는 코딩으로 활용할 수 있을 것 같습니다!! :)"
      ],
      "metadata": {
        "id": "pjk8lfSB8YHZ"
      }
    },
    {
      "cell_type": "code",
      "source": [
        "#한줄로 악기 입력 중간 중간 띄어쓰기 해야 함 예(장구 징 피아노)\n",
        "# shuffle -> 하기 위한 것 random import\n",
        "import random\n",
        "\n",
        "# 악기들 다 입력 받기\n",
        "instruments = input(\"원하는 악기를 입력하세요 : \")\n",
        "instruments = instruments.split()\n",
        "\n",
        "# 각 악기와 명수 입력받기\n",
        "instruments_count = []\n",
        "for instrument in instruments:\n",
        "  count = int(input(\"%s는 몇 명 입니까? : \" % instrument))\n",
        "  instruments_count.append(count)\n",
        "\n",
        "print()\n",
        "print(\"입력받은 악기와 명수는 다음과 같습니다.\")\n",
        "for i in range(len(instruments)):\n",
        "  print(\"%s : %d 명\" % (instruments[i], instruments_count[i]))\n",
        "\n",
        "# 학생 파일 받아오기\n",
        "class_file = open('classroom.txt')\n",
        "\n",
        "# 학생 명단 입력받기\n",
        "children = []\n",
        "for line in class_file:\n",
        "  children += line.split(\", \")\n",
        "class_file.close()\n",
        "\n",
        "\n",
        "instrument_random = []\n",
        "for i in range(len(instruments)):\n",
        "  instrument_random += [instruments[i]] * instruments_count[i]\n",
        "    \n",
        "random.shuffle(instrument_random)\n",
        "\n",
        "# 출력\n",
        "print()\n",
        "for i in range(len(children)):\n",
        "  print(\"%s : %s\" % (children[i], instrument_random[i]))"
      ],
      "metadata": {
        "id": "LQv88wFn-GnQ"
      },
      "execution_count": null,
      "outputs": []
    },
    {
      "cell_type": "code",
      "source": [
        ""
      ],
      "metadata": {
        "id": "-kRRU6Fv-Jgc"
      },
      "execution_count": null,
      "outputs": []
    }
  ]
}